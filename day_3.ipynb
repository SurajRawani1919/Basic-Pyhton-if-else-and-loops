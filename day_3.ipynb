{
  "nbformat": 4,
  "nbformat_minor": 0,
  "metadata": {
    "colab": {
      "provenance": []
    },
    "kernelspec": {
      "name": "python3",
      "display_name": "Python 3"
    },
    "language_info": {
      "name": "python"
    }
  },
  "cells": [
    {
      "cell_type": "code",
      "execution_count": null,
      "metadata": {
        "colab": {
          "base_uri": "https://localhost:8080/"
        },
        "id": "ssLZKmgPhDYy",
        "outputId": "5952511f-4346-4470-bdc8-12f3280bc747"
      },
      "outputs": [
        {
          "output_type": "stream",
          "name": "stdout",
          "text": [
            "Enter the number :123\n",
            "6\n"
          ]
        }
      ],
      "source": [
        "\n",
        "\n",
        "m=int(input(\"Enter the number :\"))\n",
        "\n",
        "pro=1\n",
        "while m!=0:\n",
        "  rem=m%10\n",
        "  pro=pro*rem\n",
        "  m=m//10\n",
        "print(pro)\n"
      ]
    },
    {
      "cell_type": "code",
      "source": [
        "n=int(input(\"Enter the number :\"))\n",
        "fact=1\n",
        "i=1\n",
        "while i<=n:\n",
        "  fact=fact*i\n",
        "  i+=1\n",
        "print(fact)\n"
      ],
      "metadata": {
        "colab": {
          "base_uri": "https://localhost:8080/"
        },
        "id": "qAPmtcLfoHnK",
        "outputId": "aa4844bd-ebf1-481f-82b9-fc8ebe1fcb13"
      },
      "execution_count": null,
      "outputs": [
        {
          "output_type": "stream",
          "name": "stdout",
          "text": [
            "Enter the number :5\n",
            "120\n"
          ]
        }
      ]
    },
    {
      "cell_type": "code",
      "source": [
        "n=int(input(\"Enter the number :\"))\n",
        "i=1\n",
        "sum=0\n",
        "while i<=n:\n",
        "  if n%i==0:\n",
        "    sum=sum+i\n",
        "  i+=1\n",
        "print(\"Sum of factors :\",sum)"
      ],
      "metadata": {
        "colab": {
          "base_uri": "https://localhost:8080/"
        },
        "id": "926hbTuWonre",
        "outputId": "a7173be8-249b-4506-e327-ffb1b1084c50"
      },
      "execution_count": null,
      "outputs": [
        {
          "output_type": "stream",
          "name": "stdout",
          "text": [
            "Enter the number :8\n",
            "Sum of factors : 15\n"
          ]
        }
      ]
    },
    {
      "cell_type": "code",
      "source": [
        "m = int(input(\"Enter the number: \"))\n",
        "m=n\n",
        "sum = 0\n",
        "\n",
        "while m != 0:\n",
        "    rem = m % 10\n",
        "    fact = 1\n",
        "    while rem != 0:\n",
        "        fact = fact * rem\n",
        "        rem -= 1\n",
        "    sum = sum + fact\n",
        "    m = m // 10\n",
        "\n",
        "if sum == n:\n",
        "    print(\"Strong number\")\n",
        "else:\n",
        "    print(\"Not a strong number\")\n"
      ],
      "metadata": {
        "colab": {
          "base_uri": "https://localhost:8080/"
        },
        "id": "PEx6s19EpO0b",
        "outputId": "1947e571-80b3-48e6-b921-723188e5052c"
      },
      "execution_count": null,
      "outputs": [
        {
          "output_type": "stream",
          "name": "stdout",
          "text": [
            "Enter the number: 8\n",
            "Not a strong number\n"
          ]
        }
      ]
    },
    {
      "cell_type": "code",
      "source": [
        "n=int(input(\"Enter the number : \"))\n",
        "m=n\n",
        "sum=0\n",
        "while m!=0:\n",
        "  rem=m%10\n",
        "  sum=sum+rem**3\n",
        "  m=m//10\n",
        "\n",
        "if sum==n:\n",
        "  print(\"Armstrong Number :\")\n",
        "else:\n",
        "  print(\"Not a Armstrong Number :\")"
      ],
      "metadata": {
        "colab": {
          "base_uri": "https://localhost:8080/"
        },
        "id": "rN-fLaAmtsE3",
        "outputId": "8297a7ed-8d9d-4e96-8774-01ed6d9e2ed8"
      },
      "execution_count": null,
      "outputs": [
        {
          "output_type": "stream",
          "name": "stdout",
          "text": [
            "Enter the number : 153\n",
            "Armstrong Number :\n"
          ]
        }
      ]
    },
    {
      "cell_type": "code",
      "source": [
        "n=int(input(\"Enter the number : \"))\n",
        "m=n\n",
        "sum=0\n",
        "while m!=0:\n",
        "  rem=m%10\n",
        "  sum=sum*10+rem\n",
        "  m=m//10\n",
        "\n",
        "if sum==n:\n",
        "  print(\"Palindrome Number :\")\n",
        "else:\n",
        "  print(\"Not a Palindrome Number :\")"
      ],
      "metadata": {
        "colab": {
          "base_uri": "https://localhost:8080/"
        },
        "id": "fcCTPcHauwMq",
        "outputId": "08e77a44-ead9-4098-82f3-d2de7239fe84"
      },
      "execution_count": null,
      "outputs": [
        {
          "output_type": "stream",
          "name": "stdout",
          "text": [
            "Enter the number : 121\n",
            "Palindrome Number :\n"
          ]
        }
      ]
    },
    {
      "cell_type": "code",
      "source": [
        "# nested loop\n",
        "for i in range(1,4):\n",
        "  print(\"hey\",i)\n",
        "  for j in range(10,12):\n",
        "    print(\"hello\",j)"
      ],
      "metadata": {
        "colab": {
          "base_uri": "https://localhost:8080/"
        },
        "id": "-bk8gHoRvCQ9",
        "outputId": "6275a4e1-bb10-43a4-8acd-92b084216f56"
      },
      "execution_count": null,
      "outputs": [
        {
          "output_type": "stream",
          "name": "stdout",
          "text": [
            "hey 1\n",
            "hello 10\n",
            "hello 11\n",
            "hey 2\n",
            "hello 10\n",
            "hello 11\n",
            "hey 3\n",
            "hello 10\n",
            "hello 11\n"
          ]
        }
      ]
    },
    {
      "cell_type": "code",
      "source": [
        "for student in range(1,6):\n",
        "  print(\"Student\",student)\n",
        "\n",
        "  for subject in range(1,4):\n",
        "    print(\"Subject\",subject)"
      ],
      "metadata": {
        "colab": {
          "base_uri": "https://localhost:8080/"
        },
        "id": "4VA9hwWo0Maa",
        "outputId": "e7c715ca-889e-4371-99b2-331c79b16425"
      },
      "execution_count": null,
      "outputs": [
        {
          "output_type": "stream",
          "name": "stdout",
          "text": [
            "Student 1\n",
            "Subject 1\n",
            "Subject 2\n",
            "Subject 3\n",
            "Student 2\n",
            "Subject 1\n",
            "Subject 2\n",
            "Subject 3\n",
            "Student 3\n",
            "Subject 1\n",
            "Subject 2\n",
            "Subject 3\n",
            "Student 4\n",
            "Subject 1\n",
            "Subject 2\n",
            "Subject 3\n",
            "Student 5\n",
            "Subject 1\n",
            "Subject 2\n",
            "Subject 3\n"
          ]
        }
      ]
    },
    {
      "cell_type": "code",
      "source": [
        "for student in range(1,6):\n",
        "\n",
        "  for subject in range(1,4):\n",
        "    print(\"Subject\",student,subject)"
      ],
      "metadata": {
        "colab": {
          "base_uri": "https://localhost:8080/"
        },
        "id": "bQRlY_4_1kCe",
        "outputId": "e00cd0f7-6182-447e-8cfe-ec659d952b03"
      },
      "execution_count": null,
      "outputs": [
        {
          "output_type": "stream",
          "name": "stdout",
          "text": [
            "Subject 1 1\n",
            "Subject 1 2\n",
            "Subject 1 3\n",
            "Subject 2 1\n",
            "Subject 2 2\n",
            "Subject 2 3\n",
            "Subject 3 1\n",
            "Subject 3 2\n",
            "Subject 3 3\n",
            "Subject 4 1\n",
            "Subject 4 2\n",
            "Subject 4 3\n",
            "Subject 5 1\n",
            "Subject 5 2\n",
            "Subject 5 3\n"
          ]
        }
      ]
    },
    {
      "cell_type": "code",
      "source": [
        "for i in range(2,6):\n",
        "  for j in range(1,11):\n",
        "    print(i*j,end=\" \")\n",
        "  print()"
      ],
      "metadata": {
        "colab": {
          "base_uri": "https://localhost:8080/"
        },
        "id": "WJwDOORl2DyP",
        "outputId": "607d8f2f-f6f0-4af0-ea27-79055889c726"
      },
      "execution_count": null,
      "outputs": [
        {
          "output_type": "stream",
          "name": "stdout",
          "text": [
            "2 4 6 8 10 12 14 16 18 20 \n",
            "3 6 9 12 15 18 21 24 27 30 \n",
            "4 8 12 16 20 24 28 32 36 40 \n",
            "5 10 15 20 25 30 35 40 45 50 \n"
          ]
        }
      ]
    },
    {
      "cell_type": "code",
      "source": [
        "for x in range(2,10):\n",
        "  for i in range(1,x+1):\n",
        "    if x%i==0:\n",
        "      print(\"Factors\",i)\n",
        "  print(\"-----\")"
      ],
      "metadata": {
        "colab": {
          "base_uri": "https://localhost:8080/"
        },
        "id": "94DgVeBS2dvd",
        "outputId": "a48e3aff-f840-483b-f699-0bcbb95e8228"
      },
      "execution_count": null,
      "outputs": [
        {
          "output_type": "stream",
          "name": "stdout",
          "text": [
            "Factors 1\n",
            "Factors 2\n",
            "-----\n",
            "Factors 1\n",
            "Factors 3\n",
            "-----\n",
            "Factors 1\n",
            "Factors 2\n",
            "Factors 4\n",
            "-----\n",
            "Factors 1\n",
            "Factors 5\n",
            "-----\n",
            "Factors 1\n",
            "Factors 2\n",
            "Factors 3\n",
            "Factors 6\n",
            "-----\n",
            "Factors 1\n",
            "Factors 7\n",
            "-----\n",
            "Factors 1\n",
            "Factors 2\n",
            "Factors 4\n",
            "Factors 8\n",
            "-----\n",
            "Factors 1\n",
            "Factors 3\n",
            "Factors 9\n",
            "-----\n"
          ]
        }
      ]
    },
    {
      "cell_type": "code",
      "source": [
        "\n",
        "for i in range(100, 400):\n",
        "    m = i\n",
        "    temp = 0\n",
        "    while m != 0:\n",
        "\n",
        "        rem = m % 10\n",
        "        temp = temp + rem ** 3\n",
        "        m = m // 10\n",
        "    if temp == i:\n",
        "        print(i)\n"
      ],
      "metadata": {
        "colab": {
          "base_uri": "https://localhost:8080/"
        },
        "id": "5SIhkMD54Okq",
        "outputId": "46b83fee-4d79-4e6b-c07f-caeadade6968"
      },
      "execution_count": null,
      "outputs": [
        {
          "output_type": "stream",
          "name": "stdout",
          "text": [
            "153\n",
            "370\n",
            "371\n"
          ]
        }
      ]
    },
    {
      "cell_type": "code",
      "source": [
        "n=5\n",
        "for i in range(n):\n",
        "  for j in range(n):\n",
        "    print(\"*\",end=\" \")\n",
        "  print()"
      ],
      "metadata": {
        "colab": {
          "base_uri": "https://localhost:8080/"
        },
        "id": "CZqa7Qp-7Gaq",
        "outputId": "700b7821-3f0c-465c-bc93-55bd798998f9"
      },
      "execution_count": null,
      "outputs": [
        {
          "output_type": "stream",
          "name": "stdout",
          "text": [
            "* * * * \n",
            "* * * * \n",
            "* * * * \n",
            "* * * * \n"
          ]
        }
      ]
    },
    {
      "cell_type": "code",
      "source": [
        "n=5\n",
        "for i in range(n):\n",
        "  for j in range(n):\n",
        "    if i==0 or j==0 or i==n-1 or j==n-1:\n",
        "      print(\"*\",end=\" \")\n",
        "    else:\n",
        "      print(\" \",end=\" \")\n",
        "  print()"
      ],
      "metadata": {
        "colab": {
          "base_uri": "https://localhost:8080/"
        },
        "id": "74fxc_OL8EBU",
        "outputId": "a6934fb1-a27c-4295-d0fb-7b036785d222"
      },
      "execution_count": null,
      "outputs": [
        {
          "output_type": "stream",
          "name": "stdout",
          "text": [
            "* * * * * \n",
            "*       * \n",
            "*       * \n",
            "*       * \n",
            "* * * * * \n"
          ]
        }
      ]
    },
    {
      "cell_type": "code",
      "source": [],
      "metadata": {
        "id": "dGfrOMOv-AQg"
      },
      "execution_count": null,
      "outputs": []
    }
  ]
}